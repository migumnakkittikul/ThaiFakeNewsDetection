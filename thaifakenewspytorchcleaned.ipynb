{
 "cells": [
  {
   "cell_type": "code",
   "execution_count": 1,
   "metadata": {},
   "outputs": [
    {
     "name": "stdout",
     "output_type": "stream",
     "text": [
      "Using device: cuda\n"
     ]
    }
   ],
   "source": [
    "# Uncomment and run these lines if you're in a fresh environment\n",
    "# !pip install pythainlp\n",
    "# !pip install sklearn\n",
    "# !pip install torch torchvision torchaudio\n",
    "# !pip install tqdm\n",
    "# !pip install matplotlib seaborn\n",
    "# !pip install tensorflow  # Keras Tokenizer\n",
    "\n",
    "import numpy as np\n",
    "import pandas as pd\n",
    "import pickle\n",
    "import re\n",
    "import random\n",
    "import matplotlib.pyplot as plt\n",
    "import seaborn as sns\n",
    "from sklearn.model_selection import train_test_split\n",
    "from sklearn.preprocessing import LabelEncoder\n",
    "from sklearn.utils.class_weight import compute_class_weight\n",
    "from sklearn.metrics import confusion_matrix, classification_report\n",
    "\n",
    "# PyTorch imports\n",
    "import torch\n",
    "import torch.nn as nn\n",
    "import torch.optim as optim\n",
    "from torch.utils.data import Dataset, DataLoader\n",
    "\n",
    "# Thai language processing\n",
    "from pythainlp.tokenize import word_tokenize\n",
    "from pythainlp.corpus import thai_stopwords\n",
    "\n",
    "# For progress bar\n",
    "from tqdm import tqdm\n",
    "\n",
    "# Keras Tokenizer and pad_sequences\n",
    "from tensorflow.keras.preprocessing.text import Tokenizer\n",
    "from tensorflow.keras.preprocessing.sequence import pad_sequences\n",
    "\n",
    "# Set random seeds for reproducibility\n",
    "def set_seed(seed=42):\n",
    "    random.seed(seed)\n",
    "    np.random.seed(seed)\n",
    "    torch.manual_seed(seed)\n",
    "    torch.cuda.manual_seed_all(seed)\n",
    "\n",
    "set_seed(42)\n",
    "\n",
    "device = torch.device(\"cuda\" if torch.cuda.is_available() else \"cpu\")\n",
    "print(f\"Using device: {device}\")\n"
   ]
  },
  {
   "cell_type": "code",
   "execution_count": 2,
   "metadata": {},
   "outputs": [],
   "source": [
    "def clean_text(text):\n",
    "    \"\"\"Clean and normalize text.\"\"\"\n",
    "    if isinstance(text, list):\n",
    "        text = ' '.join(map(str, text))\n",
    "    elif pd.isna(text):\n",
    "        text = ''\n",
    "    else:\n",
    "        text = str(text)\n",
    "    return text\n",
    "\n",
    "def process_thai_text(text):\n",
    "    \"\"\"Process Thai text with specific handling.\"\"\"\n",
    "    # Clean the text first\n",
    "    text = clean_text(text)\n",
    "\n",
    "    # Remove URLs\n",
    "    text = re.sub(r'http\\S+|www\\S+|https\\S+', '', text, flags=re.MULTILINE)\n",
    "\n",
    "    # Remove special characters but keep Thai characters and English letters\n",
    "    text = re.sub(r'[^\\u0E00-\\u0E7Fa-zA-Z\\s]', '', text)\n",
    "\n",
    "    try:\n",
    "        # Tokenize using Thai word tokenizer\n",
    "        words = word_tokenize(text, engine=\"newmm\")\n",
    "\n",
    "        # Remove Thai stopwords and short words\n",
    "        stop_words_thai = set(thai_stopwords())\n",
    "        words = [w for w in words if w not in stop_words_thai and len(w) > 1]\n",
    "\n",
    "        return ' '.join(words)\n",
    "    except:\n",
    "        # Fallback to simple space splitting if Thai tokenization fails\n",
    "        return ' '.join(text.split())\n",
    "\n",
    "def augment_thai_text(text, p=0.3):\n",
    "    \"\"\"Augment Thai text for the 'Fake News' class.\"\"\"\n",
    "    text = clean_text(text)\n",
    "\n",
    "    try:\n",
    "        words = word_tokenize(text, engine=\"newmm\")\n",
    "\n",
    "        # Randomly drop some words\n",
    "        if random.random() < p and len(words) > 5:\n",
    "            words = random.sample(words, int(len(words) * 0.8))\n",
    "\n",
    "        # Randomly shuffle pairs of words\n",
    "        if random.random() < p and len(words) > 5:\n",
    "            for i in range(0, len(words)-2, 2):\n",
    "                if random.random() < 0.5:\n",
    "                    words[i], words[i+1] = words[i+1], words[i]\n",
    "    except:\n",
    "        words = text.split()\n",
    "\n",
    "    return ' '.join(words)\n",
    "\n",
    "def add_engineered_features(text):\n",
    "    \"\"\"Extract additional features from text.\"\"\"\n",
    "    text = clean_text(text)\n",
    "    features = []\n",
    "\n",
    "    # Ratio of Thai characters to total length\n",
    "    thai_chars = len(re.findall(r'[\\u0E00-\\u0E7F]', text))\n",
    "    features.append(thai_chars / (len(text) + 1))  # Add 1 to avoid division by zero\n",
    "\n",
    "    # Number of URLs\n",
    "    urls = len(re.findall(r'http\\S+|www\\S+|https\\S+', text))\n",
    "    features.append(urls)\n",
    "\n",
    "    # Text length\n",
    "    features.append(len(text))\n",
    "\n",
    "    # Number of Thai words\n",
    "    try:\n",
    "        thai_words = len([w for w in word_tokenize(text, engine=\"newmm\")\n",
    "                          if re.match(r'[\\u0E00-\\u0E7F]+', w)])\n",
    "    except:\n",
    "        thai_words = 0\n",
    "    features.append(thai_words)\n",
    "\n",
    "    return features\n"
   ]
  },
  {
   "cell_type": "code",
   "execution_count": 3,
   "metadata": {},
   "outputs": [],
   "source": [
    "def load_and_preprocess_data(filepath):\n",
    "    print(\"Loading data...\")\n",
    "    df = pd.read_json(filepath, lines=True)\n",
    "    print(\"Initial dataset shape:\", df.shape)\n",
    "\n",
    "    # Clean and combine text data\n",
    "    df['Title'] = df['Title'].apply(clean_text)\n",
    "    df['Detail'] = df['Detail'].apply(clean_text)\n",
    "    df['text'] = df['Title'] + ' ' + df['Detail']\n",
    "\n",
    "    # Create label mapping for Fake News (1) vs Fact News (0)\n",
    "    label_mapping = {\"Fake News\": 1.0, \"Fact News\": 0.0}\n",
    "    df[\"label\"] = df[\"Document Tag\"].map(label_mapping)\n",
    "\n",
    "    # Keep only Fake News and Fact News\n",
    "    df = df[df['Document Tag'].isin(['Fake News', 'Fact News'])]\n",
    "    print(\"Dataset shape after filtering:\", df.shape)\n",
    "\n",
    "    print(\"\\nLabel distribution after cleaning:\")\n",
    "    print(df[\"label\"].value_counts())\n",
    "    print(\"\\nLabel distribution (proportions):\")\n",
    "    print(df[\"label\"].value_counts(normalize=True))\n",
    "\n",
    "    # Process text and create engineered features\n",
    "    df[\"cleaned_text\"] = df[\"text\"].apply(process_thai_text)\n",
    "    df[\"engineered_features\"] = df[\"text\"].apply(add_engineered_features)\n",
    "\n",
    "    return df\n",
    "\n",
    "def augment_data(df):\n",
    "    print(\"\\nAugmenting data for Fake News class...\")\n",
    "    augmented_texts = []\n",
    "    augmented_eng_features = []\n",
    "    augmented_labels = []\n",
    "\n",
    "    for _, row in tqdm(df.iterrows(), total=df.shape[0]):\n",
    "        text_str = str(row['cleaned_text'])\n",
    "        eng = row['engineered_features']\n",
    "        label = row['label']\n",
    "\n",
    "        # Original data\n",
    "        augmented_texts.append(text_str)\n",
    "        augmented_eng_features.append(eng)\n",
    "        augmented_labels.append(label)\n",
    "\n",
    "        # Add augmented version for fake news class\n",
    "        if label == 1:\n",
    "            aug_text = augment_thai_text(text_str)\n",
    "            augmented_texts.append(aug_text)\n",
    "            augmented_eng_features.append(eng)\n",
    "            augmented_labels.append(label)\n",
    "\n",
    "    # Create augmented DataFrame\n",
    "    augmented_df = pd.DataFrame({\n",
    "        'cleaned_text': augmented_texts,\n",
    "        'engineered_features': augmented_eng_features,\n",
    "        'label': augmented_labels\n",
    "    })\n",
    "\n",
    "    print(f\"Training set size after augmentation: {augmented_df.shape[0]}\")\n",
    "    return augmented_df\n",
    "\n",
    "def tokenize_and_pad(train_texts, test_texts, maxlen=200):\n",
    "    print(\"\\nTokenizing text...\")\n",
    "    tokenizer = Tokenizer()\n",
    "    tokenizer.fit_on_texts(train_texts)\n",
    "\n",
    "    X_train_seq = tokenizer.texts_to_sequences(train_texts)\n",
    "    X_test_seq = tokenizer.texts_to_sequences(test_texts)\n",
    "\n",
    "    vocab_size = len(tokenizer.word_index)\n",
    "    print(f\"Vocabulary size: {vocab_size}\")\n",
    "\n",
    "    # Pad sequences\n",
    "    X_train_pad = pad_sequences(X_train_seq, maxlen=maxlen, padding=\"post\")\n",
    "    X_test_pad = pad_sequences(X_test_seq, maxlen=maxlen, padding=\"post\")\n",
    "\n",
    "    return X_train_pad, X_test_pad, tokenizer, vocab_size\n"
   ]
  },
  {
   "cell_type": "code",
   "execution_count": 4,
   "metadata": {},
   "outputs": [],
   "source": [
    "class FakeNewsDataset(Dataset):\n",
    "    def __init__(self, texts, eng_features, labels):\n",
    "        self.texts = torch.tensor(texts, dtype=torch.long)\n",
    "        \n",
    "        # Convert list of lists to numpy array, then to tensor\n",
    "        eng_features = np.array(eng_features)\n",
    "        self.eng_features = torch.tensor(eng_features, dtype=torch.float)\n",
    "        \n",
    "        self.labels = torch.tensor(labels, dtype=torch.long)\n",
    "\n",
    "    def __len__(self):\n",
    "        return len(self.labels)\n",
    "\n",
    "    def __getitem__(self, idx):\n",
    "        return self.texts[idx], self.eng_features[idx], self.labels[idx]\n",
    "\n",
    "class AttentionLayer(nn.Module):\n",
    "    def __init__(self, hidden_dim):\n",
    "        super(AttentionLayer, self).__init__()\n",
    "        self.attention = nn.Linear(hidden_dim, 1)\n",
    "\n",
    "    def forward(self, x):\n",
    "        # x: [batch_size, seq_len, hidden_dim]\n",
    "        e = torch.tanh(self.attention(x))  # [batch_size, seq_len, 1]\n",
    "        a = torch.softmax(e, dim=1)        # [batch_size, seq_len, 1]\n",
    "        output = x * a                     # [batch_size, seq_len, hidden_dim]\n",
    "        output = torch.sum(output, dim=1)  # [batch_size, hidden_dim]\n",
    "        return output\n",
    "\n",
    "class FakeNewsModel(nn.Module):\n",
    "    def __init__(self, vocab_size, embedding_dim, n_eng_features):\n",
    "        super(FakeNewsModel, self).__init__()\n",
    "        self.embedding = nn.Embedding(vocab_size + 1, embedding_dim, padding_idx=0)\n",
    "        self.dropout = nn.Dropout(0.3)\n",
    "\n",
    "        self.bilstm1 = nn.LSTM(embedding_dim, 256, batch_first=True, bidirectional=True)\n",
    "        self.bilstm2 = nn.LSTM(512, 128, batch_first=True, bidirectional=True)\n",
    "\n",
    "        # Attention (input is bilstm2 output -> hidden_dim=128*2=256)\n",
    "        self.attention = AttentionLayer(256)\n",
    "\n",
    "        self.eng_dense = nn.Sequential(\n",
    "            nn.Linear(n_eng_features, 32),\n",
    "            nn.ReLU(),\n",
    "            nn.BatchNorm1d(32)\n",
    "        )\n",
    "\n",
    "        self.combined_dense = nn.Sequential(\n",
    "            nn.Linear(256 + 32, 128),\n",
    "            nn.ReLU(),\n",
    "            nn.BatchNorm1d(128),\n",
    "            nn.Dropout(0.3),\n",
    "\n",
    "            nn.Linear(128, 64),\n",
    "            nn.ReLU(),\n",
    "            nn.BatchNorm1d(64),\n",
    "            nn.Dropout(0.3),\n",
    "\n",
    "            nn.Linear(64, 2)  # Output layer (logits for 2 classes)\n",
    "        )\n",
    "\n",
    "    def forward(self, text, eng):\n",
    "        x = self.embedding(text)        # [batch_size, maxlen, embedding_dim]\n",
    "        x = self.dropout(x)\n",
    "\n",
    "        x, _ = self.bilstm1(x)         # [batch_size, maxlen, 512]\n",
    "        x = self.dropout(x)\n",
    "\n",
    "        x, _ = self.bilstm2(x)         # [batch_size, maxlen, 256]\n",
    "        x = self.dropout(x)\n",
    "\n",
    "        context = self.attention(x)    # [batch_size, 256]\n",
    "\n",
    "        eng_features = self.eng_dense(eng)  # [batch_size, 32]\n",
    "        combined = torch.cat((context, eng_features), dim=1)  # [batch_size, 288]\n",
    "\n",
    "        out = self.combined_dense(combined)  # [batch_size, 2]\n",
    "        return out\n"
   ]
  },
  {
   "cell_type": "code",
   "execution_count": 5,
   "metadata": {},
   "outputs": [],
   "source": [
    "def train_model(model, dataloader, criterion, optimizer, device):\n",
    "    model.train()\n",
    "    epoch_loss = 0\n",
    "    epoch_correct = 0\n",
    "\n",
    "    for texts, eng, labels in tqdm(dataloader, desc=\"Training\", leave=False):\n",
    "        texts = texts.to(device)\n",
    "        eng = eng.to(device)\n",
    "        labels = labels.to(device)\n",
    "\n",
    "        optimizer.zero_grad()\n",
    "        outputs = model(texts, eng)\n",
    "        loss = criterion(outputs, labels)\n",
    "        loss.backward()\n",
    "        optimizer.step()\n",
    "\n",
    "        epoch_loss += loss.item() * texts.size(0)\n",
    "        _, preds = torch.max(outputs, 1)\n",
    "        epoch_correct += (preds == labels).sum().item()\n",
    "\n",
    "    return epoch_loss / len(dataloader.dataset), epoch_correct / len(dataloader.dataset)\n",
    "\n",
    "def evaluate_model(model, dataloader, criterion, device):\n",
    "    model.eval()\n",
    "    epoch_loss = 0\n",
    "    epoch_correct = 0\n",
    "\n",
    "    all_preds = []\n",
    "    all_labels = []\n",
    "\n",
    "    with torch.no_grad():\n",
    "        for texts, eng, labels in tqdm(dataloader, desc=\"Evaluating\", leave=False):\n",
    "            texts = texts.to(device)\n",
    "            eng = eng.to(device)\n",
    "            labels = labels.to(device)\n",
    "\n",
    "            outputs = model(texts, eng)\n",
    "            loss = criterion(outputs, labels)\n",
    "\n",
    "            epoch_loss += loss.item() * texts.size(0)\n",
    "            _, preds = torch.max(outputs, 1)\n",
    "            epoch_correct += (preds == labels).sum().item()\n",
    "\n",
    "            all_preds.extend(preds.cpu().numpy())\n",
    "            all_labels.extend(labels.cpu().numpy())\n",
    "\n",
    "    accuracy = epoch_correct / len(dataloader.dataset)\n",
    "    return epoch_loss / len(dataloader.dataset), accuracy, all_preds, all_labels\n"
   ]
  },
  {
   "cell_type": "code",
   "execution_count": 6,
   "metadata": {},
   "outputs": [],
   "source": [
    "def main_pytorch():\n",
    "    print(f\"Using device: {device}\")\n",
    "\n",
    "    # Load and preprocess data\n",
    "    df = load_and_preprocess_data(\"Limesoda.jsonl\")\n",
    "\n",
    "    # Split data into training and test sets\n",
    "    X_text = df[\"cleaned_text\"].values\n",
    "    X_eng = np.array(df[\"engineered_features\"].tolist())\n",
    "    y = df[\"label\"].values\n",
    "\n",
    "    X_text_train, X_text_test, X_eng_train, X_eng_test, y_train, y_test = train_test_split(\n",
    "        X_text, X_eng, y, test_size=0.05, random_state=42, stratify=y\n",
    "    )\n",
    "\n",
    "    print(f\"\\nTraining set size: {len(X_text_train)}\")\n",
    "    print(f\"Test set size: {len(X_text_test)}\")\n",
    "\n",
    "    # Create training DataFrame for augmentation\n",
    "    train_df = pd.DataFrame({\n",
    "        'cleaned_text': X_text_train,\n",
    "        'engineered_features': list(X_eng_train),\n",
    "        'label': y_train\n",
    "    })\n",
    "\n",
    "    # Augment training data (only duplicates 'Fake News')\n",
    "    augmented_train_df = augment_data(train_df)\n",
    "\n",
    "    # Tokenize and pad sequences\n",
    "    X_train_pad, X_test_pad, tokenizer, vocab_size = tokenize_and_pad(\n",
    "        augmented_train_df[\"cleaned_text\"].values,\n",
    "        X_text_test\n",
    "    )\n",
    "    maxlen = 200  # As defined above\n",
    "\n",
    "    # Save the tokenizer\n",
    "    with open('tokenizer.pickle', 'wb') as handle:\n",
    "        pickle.dump(tokenizer, handle, protocol=pickle.HIGHEST_PROTOCOL)\n",
    "    print(\"Tokenizer saved as 'tokenizer.pickle'.\")\n",
    "\n",
    "    y_train_aug = augmented_train_df[\"label\"].values.astype(int)\n",
    "    y_test = y_test.astype(int)\n",
    "\n",
    "    # Compute class weights\n",
    "    class_weights = compute_class_weight(\n",
    "        class_weight='balanced',\n",
    "        classes=np.unique(y_train_aug),\n",
    "        y=y_train_aug\n",
    "    )\n",
    "    class_weights = torch.tensor(class_weights, dtype=torch.float)\n",
    "    torch.save(class_weights, 'class_weights.pth')\n",
    "    print(\"Class weights saved as 'class_weights.pth'.\")\n",
    "    print(\"Class weights:\", class_weights)\n",
    "\n",
    "    # Create Datasets and DataLoaders\n",
    "    train_dataset = FakeNewsDataset(X_train_pad, augmented_train_df[\"engineered_features\"].tolist(), y_train_aug)\n",
    "    test_dataset = FakeNewsDataset(X_test_pad, X_eng_test.tolist(), y_test)\n",
    "\n",
    "    batch_size = 32\n",
    "    train_loader = DataLoader(train_dataset, batch_size=batch_size, shuffle=True, num_workers=0)\n",
    "    test_loader = DataLoader(test_dataset, batch_size=batch_size, shuffle=False, num_workers=0)\n",
    "\n",
    "    # Initialize model\n",
    "    embedding_dim = 200\n",
    "    n_eng_features = 4\n",
    "    model = FakeNewsModel(vocab_size, embedding_dim, n_eng_features).to(device)\n",
    "\n",
    "    # Define loss and optimizer\n",
    "    criterion = nn.CrossEntropyLoss(weight=class_weights.to(device))\n",
    "    optimizer = optim.Adam(model.parameters(), lr=2e-3)\n",
    "    scheduler = optim.lr_scheduler.CosineAnnealingLR(optimizer, T_max=1000)\n",
    "\n",
    "    # Early stopping parameters\n",
    "    best_val_acc = 0\n",
    "    patience = 10\n",
    "    trigger_times = 0\n",
    "\n",
    "    num_epochs = 30\n",
    "    history = {\n",
    "        'train_loss': [],\n",
    "        'train_acc': [],\n",
    "        'val_loss': [],\n",
    "        'val_acc': []\n",
    "    }\n",
    "\n",
    "    print(\"\\nStarting training...\")\n",
    "    for epoch in range(num_epochs):\n",
    "        print(f\"\\nEpoch {epoch + 1}/{num_epochs}\")\n",
    "        train_loss, train_acc = train_model(model, train_loader, criterion, optimizer, device)\n",
    "        val_loss, val_acc, _, _ = evaluate_model(model, test_loader, criterion, device)\n",
    "\n",
    "        history['train_loss'].append(train_loss)\n",
    "        history['train_acc'].append(train_acc)\n",
    "        history['val_loss'].append(val_loss)\n",
    "        history['val_acc'].append(val_acc)\n",
    "\n",
    "        print(f\"Train Loss: {train_loss:.4f} | Train Acc: {train_acc:.4f}\")\n",
    "        print(f\"Val  Loss: {val_loss:.4f} | Val  Acc: {val_acc:.4f}\")\n",
    "\n",
    "        # Step the scheduler\n",
    "        scheduler.step()\n",
    "\n",
    "        # Early Stopping + Save Best\n",
    "        if val_acc > best_val_acc:\n",
    "            best_val_acc = val_acc\n",
    "            trigger_times = 0\n",
    "            checkpoint = {\n",
    "                'model_state_dict': model.state_dict(),\n",
    "                'optimizer_state_dict': optimizer.state_dict(),\n",
    "                'scheduler_state_dict': scheduler.state_dict(),\n",
    "                'tokenizer': tokenizer,\n",
    "                'class_weights': class_weights,\n",
    "                'history': history\n",
    "            }\n",
    "            torch.save(checkpoint, 'best_model_checkpoint.pth')\n",
    "            print(\"Best model checkpoint saved as 'best_model_checkpoint.pth'.\")\n",
    "        else:\n",
    "            trigger_times += 1\n",
    "            print(f\"Trigger Times: {trigger_times}\")\n",
    "            if trigger_times >= patience:\n",
    "                print(\"Early stopping!\")\n",
    "                break\n",
    "\n",
    "    # Load best model\n",
    "    checkpoint = torch.load('best_model_checkpoint.pth', map_location=device)\n",
    "    model.load_state_dict(checkpoint['model_state_dict'])\n",
    "    model.eval()\n",
    "    print(\"\\nBest model loaded successfully.\")\n",
    "\n",
    "    # Final evaluation on test set\n",
    "    print(\"\\nEvaluating the best model on the test set...\")\n",
    "    val_loss, val_acc, y_pred, y_true = evaluate_model(model, test_loader, criterion, device)\n",
    "    print(f\"\\nTest Loss: {val_loss:.4f}\")\n",
    "    print(f\"Test Accuracy: {val_acc:.4f}\")\n",
    "\n",
    "    # Classification Report\n",
    "    target_names = [\"Fact News\", \"Fake News\"]\n",
    "    print(\"\\nClassification Report:\")\n",
    "    print(classification_report(y_true, y_pred, target_names=target_names))\n",
    "\n",
    "    # Confusion Matrix\n",
    "    cm = confusion_matrix(y_true, y_pred)\n",
    "    plt.figure(figsize=(8, 6))\n",
    "    sns.heatmap(cm, annot=True, fmt=\"d\", cmap=\"Blues\",\n",
    "                xticklabels=target_names,\n",
    "                yticklabels=target_names)\n",
    "    plt.title(\"Confusion Matrix\")\n",
    "    plt.xlabel(\"Predicted\")\n",
    "    plt.ylabel(\"True\")\n",
    "    plt.show()\n",
    "\n",
    "    # Plot training history\n",
    "    plt.figure(figsize=(12, 4))\n",
    "    plt.subplot(1, 2, 1)\n",
    "    plt.plot(history['train_acc'], label='Train Acc')\n",
    "    plt.plot(history['val_acc'], label='Val Acc')\n",
    "    plt.title('Model Accuracy')\n",
    "    plt.xlabel('Epoch')\n",
    "    plt.ylabel('Accuracy')\n",
    "    plt.legend()\n",
    "\n",
    "    plt.subplot(1, 2, 2)\n",
    "    plt.plot(history['train_loss'], label='Train Loss')\n",
    "    plt.plot(history['val_loss'], label='Val Loss')\n",
    "    plt.title('Model Loss')\n",
    "    plt.xlabel('Epoch')\n",
    "    plt.ylabel('Loss')\n",
    "    plt.legend()\n",
    "\n",
    "    plt.tight_layout()\n",
    "    plt.show()\n",
    "\n",
    "    return model, tokenizer, history\n"
   ]
  },
  {
   "cell_type": "code",
   "execution_count": 7,
   "metadata": {},
   "outputs": [
    {
     "name": "stdout",
     "output_type": "stream",
     "text": [
      "Using device: cuda\n",
      "Loading data...\n",
      "Initial dataset shape: (7139, 5)\n",
      "Dataset shape after filtering: (4599, 7)\n",
      "\n",
      "Label distribution after cleaning:\n",
      "label\n",
      "1.0    2522\n",
      "0.0    2077\n",
      "Name: count, dtype: int64\n",
      "\n",
      "Label distribution (proportions):\n",
      "label\n",
      "1.0    0.54838\n",
      "0.0    0.45162\n",
      "Name: proportion, dtype: float64\n",
      "\n",
      "Training set size: 4369\n",
      "Test set size: 230\n",
      "\n",
      "Augmenting data for Fake News class...\n"
     ]
    },
    {
     "name": "stderr",
     "output_type": "stream",
     "text": [
      "100%|██████████| 4369/4369 [00:03<00:00, 1241.30it/s]\n"
     ]
    },
    {
     "name": "stdout",
     "output_type": "stream",
     "text": [
      "Training set size after augmentation: 6765\n",
      "\n",
      "Tokenizing text...\n",
      "Vocabulary size: 23165\n",
      "Tokenizer saved as 'tokenizer.pickle'.\n",
      "Class weights saved as 'class_weights.pth'.\n",
      "Class weights: tensor([1.7144, 0.7059])\n",
      "\n",
      "Starting training...\n",
      "\n",
      "Epoch 1/30\n"
     ]
    },
    {
     "name": "stderr",
     "output_type": "stream",
     "text": [
      "                                                           \r"
     ]
    },
    {
     "name": "stdout",
     "output_type": "stream",
     "text": [
      "Train Loss: 0.3930 | Train Acc: 0.8288\n",
      "Val  Loss: 0.5657 | Val  Acc: 0.8130\n",
      "Best model checkpoint saved as 'best_model_checkpoint.pth'.\n",
      "\n",
      "Epoch 2/30\n"
     ]
    },
    {
     "name": "stderr",
     "output_type": "stream",
     "text": [
      "                                                           \r"
     ]
    },
    {
     "name": "stdout",
     "output_type": "stream",
     "text": [
      "Train Loss: 0.2161 | Train Acc: 0.9224\n",
      "Val  Loss: 0.3411 | Val  Acc: 0.8913\n",
      "Best model checkpoint saved as 'best_model_checkpoint.pth'.\n",
      "\n",
      "Epoch 3/30\n"
     ]
    },
    {
     "name": "stderr",
     "output_type": "stream",
     "text": [
      "                                                           \r"
     ]
    },
    {
     "name": "stdout",
     "output_type": "stream",
     "text": [
      "Train Loss: 0.1425 | Train Acc: 0.9531\n",
      "Val  Loss: 0.7253 | Val  Acc: 0.9130\n",
      "Best model checkpoint saved as 'best_model_checkpoint.pth'.\n",
      "\n",
      "Epoch 4/30\n"
     ]
    },
    {
     "name": "stderr",
     "output_type": "stream",
     "text": [
      "                                                           \r"
     ]
    },
    {
     "name": "stdout",
     "output_type": "stream",
     "text": [
      "Train Loss: 0.0977 | Train Acc: 0.9661\n",
      "Val  Loss: 0.3511 | Val  Acc: 0.9043\n",
      "Trigger Times: 1\n",
      "\n",
      "Epoch 5/30\n"
     ]
    },
    {
     "name": "stderr",
     "output_type": "stream",
     "text": [
      "                                                           \r"
     ]
    },
    {
     "name": "stdout",
     "output_type": "stream",
     "text": [
      "Train Loss: 0.0691 | Train Acc: 0.9808\n",
      "Val  Loss: 0.8119 | Val  Acc: 0.9043\n",
      "Trigger Times: 2\n",
      "\n",
      "Epoch 6/30\n"
     ]
    },
    {
     "name": "stderr",
     "output_type": "stream",
     "text": [
      "                                                           \r"
     ]
    },
    {
     "name": "stdout",
     "output_type": "stream",
     "text": [
      "Train Loss: 0.0534 | Train Acc: 0.9851\n",
      "Val  Loss: 0.3984 | Val  Acc: 0.9130\n",
      "Trigger Times: 3\n",
      "\n",
      "Epoch 7/30\n"
     ]
    },
    {
     "name": "stderr",
     "output_type": "stream",
     "text": [
      "                                                           \r"
     ]
    },
    {
     "name": "stdout",
     "output_type": "stream",
     "text": [
      "Train Loss: 0.0459 | Train Acc: 0.9863\n",
      "Val  Loss: 0.2644 | Val  Acc: 0.9261\n",
      "Best model checkpoint saved as 'best_model_checkpoint.pth'.\n",
      "\n",
      "Epoch 8/30\n"
     ]
    },
    {
     "name": "stderr",
     "output_type": "stream",
     "text": [
      "                                                           \r"
     ]
    },
    {
     "name": "stdout",
     "output_type": "stream",
     "text": [
      "Train Loss: 0.0307 | Train Acc: 0.9928\n",
      "Val  Loss: 0.4056 | Val  Acc: 0.9130\n",
      "Trigger Times: 1\n",
      "\n",
      "Epoch 9/30\n"
     ]
    },
    {
     "name": "stderr",
     "output_type": "stream",
     "text": [
      "                                                           \r"
     ]
    },
    {
     "name": "stdout",
     "output_type": "stream",
     "text": [
      "Train Loss: 0.0332 | Train Acc: 0.9901\n",
      "Val  Loss: 0.5716 | Val  Acc: 0.9174\n",
      "Trigger Times: 2\n",
      "\n",
      "Epoch 10/30\n"
     ]
    },
    {
     "name": "stderr",
     "output_type": "stream",
     "text": [
      "                                                           \r"
     ]
    },
    {
     "name": "stdout",
     "output_type": "stream",
     "text": [
      "Train Loss: 0.0325 | Train Acc: 0.9904\n",
      "Val  Loss: 0.3592 | Val  Acc: 0.9087\n",
      "Trigger Times: 3\n",
      "\n",
      "Epoch 11/30\n"
     ]
    },
    {
     "name": "stderr",
     "output_type": "stream",
     "text": [
      "                                                           \r"
     ]
    },
    {
     "name": "stdout",
     "output_type": "stream",
     "text": [
      "Train Loss: 0.0285 | Train Acc: 0.9926\n",
      "Val  Loss: 0.3861 | Val  Acc: 0.9304\n",
      "Best model checkpoint saved as 'best_model_checkpoint.pth'.\n",
      "\n",
      "Epoch 12/30\n"
     ]
    },
    {
     "name": "stderr",
     "output_type": "stream",
     "text": [
      "                                                           \r"
     ]
    },
    {
     "name": "stdout",
     "output_type": "stream",
     "text": [
      "Train Loss: 0.0283 | Train Acc: 0.9923\n",
      "Val  Loss: 0.3921 | Val  Acc: 0.9261\n",
      "Trigger Times: 1\n",
      "\n",
      "Epoch 13/30\n"
     ]
    },
    {
     "name": "stderr",
     "output_type": "stream",
     "text": [
      "                                                           \r"
     ]
    },
    {
     "name": "stdout",
     "output_type": "stream",
     "text": [
      "Train Loss: 0.0168 | Train Acc: 0.9954\n",
      "Val  Loss: 0.4842 | Val  Acc: 0.9174\n",
      "Trigger Times: 2\n",
      "\n",
      "Epoch 14/30\n"
     ]
    },
    {
     "name": "stderr",
     "output_type": "stream",
     "text": [
      "                                                           \r"
     ]
    },
    {
     "name": "stdout",
     "output_type": "stream",
     "text": [
      "Train Loss: 0.0271 | Train Acc: 0.9920\n",
      "Val  Loss: 0.3656 | Val  Acc: 0.9217\n",
      "Trigger Times: 3\n",
      "\n",
      "Epoch 15/30\n"
     ]
    },
    {
     "name": "stderr",
     "output_type": "stream",
     "text": [
      "                                                           \r"
     ]
    },
    {
     "name": "stdout",
     "output_type": "stream",
     "text": [
      "Train Loss: 0.0142 | Train Acc: 0.9960\n",
      "Val  Loss: 0.4759 | Val  Acc: 0.9174\n",
      "Trigger Times: 4\n",
      "\n",
      "Epoch 16/30\n"
     ]
    },
    {
     "name": "stderr",
     "output_type": "stream",
     "text": [
      "                                                           \r"
     ]
    },
    {
     "name": "stdout",
     "output_type": "stream",
     "text": [
      "Train Loss: 0.0133 | Train Acc: 0.9965\n",
      "Val  Loss: 0.5204 | Val  Acc: 0.9000\n",
      "Trigger Times: 5\n",
      "\n",
      "Epoch 17/30\n"
     ]
    },
    {
     "name": "stderr",
     "output_type": "stream",
     "text": [
      "                                                           \r"
     ]
    },
    {
     "name": "stdout",
     "output_type": "stream",
     "text": [
      "Train Loss: 0.0173 | Train Acc: 0.9939\n",
      "Val  Loss: 0.4849 | Val  Acc: 0.9000\n",
      "Trigger Times: 6\n",
      "\n",
      "Epoch 18/30\n"
     ]
    },
    {
     "name": "stderr",
     "output_type": "stream",
     "text": [
      "                                                           \r"
     ]
    },
    {
     "name": "stdout",
     "output_type": "stream",
     "text": [
      "Train Loss: 0.0098 | Train Acc: 0.9975\n",
      "Val  Loss: 0.6501 | Val  Acc: 0.9043\n",
      "Trigger Times: 7\n",
      "\n",
      "Epoch 19/30\n"
     ]
    },
    {
     "name": "stderr",
     "output_type": "stream",
     "text": [
      "                                                           \r"
     ]
    },
    {
     "name": "stdout",
     "output_type": "stream",
     "text": [
      "Train Loss: 0.0179 | Train Acc: 0.9953\n",
      "Val  Loss: 0.3898 | Val  Acc: 0.9174\n",
      "Trigger Times: 8\n",
      "\n",
      "Epoch 20/30\n"
     ]
    },
    {
     "name": "stderr",
     "output_type": "stream",
     "text": [
      "                                                           \r"
     ]
    },
    {
     "name": "stdout",
     "output_type": "stream",
     "text": [
      "Train Loss: 0.0115 | Train Acc: 0.9970\n",
      "Val  Loss: 0.9313 | Val  Acc: 0.9174\n",
      "Trigger Times: 9\n",
      "\n",
      "Epoch 21/30\n"
     ]
    },
    {
     "name": "stderr",
     "output_type": "stream",
     "text": [
      "C:\\Users\\sirap\\AppData\\Local\\Temp\\ipykernel_2460\\1044324417.py:125: FutureWarning: You are using `torch.load` with `weights_only=False` (the current default value), which uses the default pickle module implicitly. It is possible to construct malicious pickle data which will execute arbitrary code during unpickling (See https://github.com/pytorch/pytorch/blob/main/SECURITY.md#untrusted-models for more details). In a future release, the default value for `weights_only` will be flipped to `True`. This limits the functions that could be executed during unpickling. Arbitrary objects will no longer be allowed to be loaded via this mode unless they are explicitly allowlisted by the user via `torch.serialization.add_safe_globals`. We recommend you start setting `weights_only=True` for any use case where you don't have full control of the loaded file. Please open an issue on GitHub for any issues related to this experimental feature.\n",
      "  checkpoint = torch.load('best_model_checkpoint.pth', map_location=device)\n"
     ]
    },
    {
     "name": "stdout",
     "output_type": "stream",
     "text": [
      "Train Loss: 0.0146 | Train Acc: 0.9966\n",
      "Val  Loss: 0.6617 | Val  Acc: 0.9261\n",
      "Trigger Times: 10\n",
      "Early stopping!\n",
      "\n",
      "Best model loaded successfully.\n",
      "\n",
      "Evaluating the best model on the test set...\n"
     ]
    },
    {
     "name": "stderr",
     "output_type": "stream",
     "text": [
      "                                                 \r"
     ]
    },
    {
     "name": "stdout",
     "output_type": "stream",
     "text": [
      "\n",
      "Test Loss: 0.3861\n",
      "Test Accuracy: 0.9304\n",
      "\n",
      "Classification Report:\n",
      "              precision    recall  f1-score   support\n",
      "\n",
      "   Fact News       0.96      0.88      0.92       104\n",
      "   Fake News       0.91      0.97      0.94       126\n",
      "\n",
      "    accuracy                           0.93       230\n",
      "   macro avg       0.93      0.93      0.93       230\n",
      "weighted avg       0.93      0.93      0.93       230\n",
      "\n"
     ]
    },
    {
     "data": {
      "image/png": "[encoded data removed]",
      "text/plain": [
       "<Figure size 800x600 with 2 Axes>"
      ]
     },
     "metadata": {},
     "output_type": "display_data"
    },
    {
     "data": {
      "image/png": "[encoded data removed]",
      "text/plain": [
       "<Figure size 1200x400 with 2 Axes>"
      ]
     },
     "metadata": {},
     "output_type": "display_data"
    }
   ],
   "source": [
    "# Train (or re-train) the model\n",
    "model, tokenizer, history = main_pytorch()\n"
   ]
  },
  {
   "cell_type": "code",
   "execution_count": 10,
   "metadata": {},
   "outputs": [],
   "source": [
    "def predict_fake_news(title, content, model, tokenizer, device, maxlen=200):\n",
    "    \"\"\"\n",
    "    Predict whether the provided title and content constitute Fake News or Fact News.\n",
    "    Returns \"Fake News\" or \"Fact News\".\n",
    "    \"\"\"\n",
    "    combined_text = f\"{title} {content}\"\n",
    "\n",
    "    # Preprocess the text\n",
    "    cleaned_text = process_thai_text(combined_text)\n",
    "\n",
    "    # Tokenize and pad\n",
    "    sequences = tokenizer.texts_to_sequences([cleaned_text])\n",
    "    padded_sequences = pad_sequences(sequences, maxlen=maxlen, padding='post')\n",
    "    input_ids = torch.tensor(padded_sequences, dtype=torch.long).to(device)\n",
    "\n",
    "    # Extract engineered features\n",
    "    eng_feats = add_engineered_features(combined_text)\n",
    "    eng_feats = torch.tensor(eng_feats, dtype=torch.float).unsqueeze(0).to(device)\n",
    "\n",
    "    with torch.no_grad():\n",
    "        outputs = model(input_ids, eng_feats)\n",
    "        _, preds = torch.max(outputs, 1)\n",
    "        prediction = preds.item()\n",
    "\n",
    "    label_map = {0: \"Fact News\", 1: \"Fake News\"}\n",
    "    return label_map.get(prediction, \"Unknown\")\n",
    "\n",
    "def test_model(title, content):\n",
    "    \"\"\"\n",
    "    Load tokenizer, model checkpoint, then predict Fake News or Fact News for given input.\n",
    "    \"\"\"\n",
    "    print(f\"Using device: {device}\")\n",
    "\n",
    "    # Load the tokenizer\n",
    "    try:\n",
    "        with open('tokenizer.pickle', 'rb') as handle:\n",
    "            tokenizer = pickle.load(handle)\n",
    "        print(\"Tokenizer loaded successfully.\")\n",
    "    except FileNotFoundError:\n",
    "        print(\"Error: 'tokenizer.pickle' not found.\")\n",
    "        return\n",
    "\n",
    "    # Load class weights (optional)\n",
    "    try:\n",
    "        class_weights = torch.load('class_weights.pth', map_location=device)\n",
    "        print(\"Class weights loaded successfully.\")\n",
    "    except FileNotFoundError:\n",
    "        print(\"Warning: 'class_weights.pth' not found. Proceeding without class weights.\")\n",
    "        class_weights = None\n",
    "\n",
    "    # Initialize the model\n",
    "    vocab_size = len(tokenizer.word_index)\n",
    "    embedding_dim = 200\n",
    "    n_eng_features = 4\n",
    "    model = FakeNewsModel(vocab_size, embedding_dim, n_eng_features).to(device)\n",
    "\n",
    "    # Load the model checkpoint\n",
    "    try:\n",
    "        checkpoint = torch.load('best_model_checkpoint.pth', map_location=device)\n",
    "        model.load_state_dict(checkpoint['model_state_dict'])\n",
    "        model.eval()\n",
    "        print(\"Model loaded successfully.\")\n",
    "    except FileNotFoundError:\n",
    "        print(\"Error: 'best_model_checkpoint.pth' not found.\")\n",
    "        return\n",
    "    except KeyError:\n",
    "        print(\"Error: The checkpoint does not contain 'model_state_dict'.\")\n",
    "        return\n",
    "\n",
    "    # Make Prediction\n",
    "    prediction = predict_fake_news(title, content, model, tokenizer, device)\n",
    "    print(f\"Prediction: {prediction}\")\n",
    "    return prediction\n"
   ]
  },
  {
   "cell_type": "code",
   "execution_count": 11,
   "metadata": {},
   "outputs": [
    {
     "name": "stdout",
     "output_type": "stream",
     "text": [
      "Using device: cuda\n",
      "Tokenizer loaded successfully.\n",
      "Class weights loaded successfully.\n",
      "Model loaded successfully.\n",
      "Prediction: Fact News\n"
     ]
    },
    {
     "name": "stderr",
     "output_type": "stream",
     "text": [
      "C:\\Users\\sirap\\AppData\\Local\\Temp\\ipykernel_2460\\2929286726.py:45: FutureWarning: You are using `torch.load` with `weights_only=False` (the current default value), which uses the default pickle module implicitly. It is possible to construct malicious pickle data which will execute arbitrary code during unpickling (See https://github.com/pytorch/pytorch/blob/main/SECURITY.md#untrusted-models for more details). In a future release, the default value for `weights_only` will be flipped to `True`. This limits the functions that could be executed during unpickling. Arbitrary objects will no longer be allowed to be loaded via this mode unless they are explicitly allowlisted by the user via `torch.serialization.add_safe_globals`. We recommend you start setting `weights_only=True` for any use case where you don't have full control of the loaded file. Please open an issue on GitHub for any issues related to this experimental feature.\n",
      "  class_weights = torch.load('class_weights.pth', map_location=device)\n",
      "C:\\Users\\sirap\\AppData\\Local\\Temp\\ipykernel_2460\\2929286726.py:59: FutureWarning: You are using `torch.load` with `weights_only=False` (the current default value), which uses the default pickle module implicitly. It is possible to construct malicious pickle data which will execute arbitrary code during unpickling (See https://github.com/pytorch/pytorch/blob/main/SECURITY.md#untrusted-models for more details). In a future release, the default value for `weights_only` will be flipped to `True`. This limits the functions that could be executed during unpickling. Arbitrary objects will no longer be allowed to be loaded via this mode unless they are explicitly allowlisted by the user via `torch.serialization.add_safe_globals`. We recommend you start setting `weights_only=True` for any use case where you don't have full control of the loaded file. Please open an issue on GitHub for any issues related to this experimental feature.\n",
      "  checkpoint = torch.load('best_model_checkpoint.pth', map_location=device)\n"
     ]
    },
    {
     "data": {
      "text/plain": [
       "'Fact News'"
      ]
     },
     "execution_count": 11,
     "metadata": {},
     "output_type": "execute_result"
    }
   ],
   "source": [
    "\n",
    "title_example = \"กสม.ชง ครม.กำหนดเกณฑ์เยียวยาใหม่ หลังบางอาชีพไม่ได้เงินประกันตนช่วงโควิด\"\n",
    "content_example = \"\"\"เมื่อวันที่ 27 ธ.ค. 2567 นายวสันต์  ภัยหลีกลี้ กรรมการสิทธิมนุษยชนแห่งชาติ เปิดเผยว่า คณะกรรมการสิทธิมนุษยชนแห่งชาติ (กสม.) ...\"\"\"\n",
    "\n",
    "# Prediction\n",
    "test_model(title_example, content_example)\n"
   ]
  },
  {
   "cell_type": "code",
   "execution_count": 12,
   "metadata": {},
   "outputs": [
    {
     "name": "stdout",
     "output_type": "stream",
     "text": [
      "Using device: cuda\n",
      "Tokenizer loaded successfully.\n",
      "Class weights loaded successfully.\n",
      "Model loaded successfully.\n"
     ]
    },
    {
     "name": "stderr",
     "output_type": "stream",
     "text": [
      "C:\\Users\\sirap\\AppData\\Local\\Temp\\ipykernel_2460\\2929286726.py:45: FutureWarning: You are using `torch.load` with `weights_only=False` (the current default value), which uses the default pickle module implicitly. It is possible to construct malicious pickle data which will execute arbitrary code during unpickling (See https://github.com/pytorch/pytorch/blob/main/SECURITY.md#untrusted-models for more details). In a future release, the default value for `weights_only` will be flipped to `True`. This limits the functions that could be executed during unpickling. Arbitrary objects will no longer be allowed to be loaded via this mode unless they are explicitly allowlisted by the user via `torch.serialization.add_safe_globals`. We recommend you start setting `weights_only=True` for any use case where you don't have full control of the loaded file. Please open an issue on GitHub for any issues related to this experimental feature.\n",
      "  class_weights = torch.load('class_weights.pth', map_location=device)\n",
      "C:\\Users\\sirap\\AppData\\Local\\Temp\\ipykernel_2460\\2929286726.py:59: FutureWarning: You are using `torch.load` with `weights_only=False` (the current default value), which uses the default pickle module implicitly. It is possible to construct malicious pickle data which will execute arbitrary code during unpickling (See https://github.com/pytorch/pytorch/blob/main/SECURITY.md#untrusted-models for more details). In a future release, the default value for `weights_only` will be flipped to `True`. This limits the functions that could be executed during unpickling. Arbitrary objects will no longer be allowed to be loaded via this mode unless they are explicitly allowlisted by the user via `torch.serialization.add_safe_globals`. We recommend you start setting `weights_only=True` for any use case where you don't have full control of the loaded file. Please open an issue on GitHub for any issues related to this experimental feature.\n",
      "  checkpoint = torch.load('best_model_checkpoint.pth', map_location=device)\n"
     ]
    },
    {
     "name": "stdout",
     "output_type": "stream",
     "text": [
      "Prediction: Fact News\n"
     ]
    },
    {
     "data": {
      "text/plain": [
       "'Fact News'"
      ]
     },
     "execution_count": 12,
     "metadata": {},
     "output_type": "execute_result"
    }
   ],
   "source": [
    "# Example of testing the provided data in the same notebook\n",
    "\n",
    "# Sample data\n",
    "test_data = {\n",
    "    \"Title\": [\"\"],\n",
    "    \"Detail\": [\n",
    "        \"📌\", \"📌\", \"ไม่\", \"จริง\", \"อย่า\", \"แชร์\", \"!\", \"ไวรัส\", \"โคโรนา\", \"แพร่\", \"กระจาย\", \"ผ่าน\",\n",
    "        \"อากาศ\", \"👉\", \"http://realnewsthailand.net/newsdetail-rnt.php?nid=2511\", \"👉\", \"👉\", \"ตาม\",\n",
    "        \"ที่\", \"มี\", \"ข่าว\", \"ปรากฏ\", \"ใน\", \"สื่อ\", \"ต่างๆ\", \"เกี่ยว\", \"กับ\", \"เรื่อง\", \"ไวรัส\", \"โคโรนา\",\n",
    "        \"แพร่\", \"กระจาย\", \"ผ่าน\", \"อากาศ\", \"(\", \"Airborne\", \")\", \"นั้น\", \"ทาง\", \"ศูนย์\", \"ต่อ\", \"ต้าน\",\n",
    "        \"ข่าว\", \"ปลอม\", \"ได้\", \"ดำเนิน\", \"การ\", \"ตรวจ\", \"สอบ\", \"ข้อ\", \"เท็จ\", \"จริง\", \"กับ\", \"กรม\",\n",
    "        \"ควบคุม\", \"โรค\", \"กระทรวง\", \"สาธารณสุข\", \"พบ\", \"ว่า\", \"ประเด็น\", \"ดัง\", \"กล่าว\", \"นั้น\",\n",
    "        \"เป็น\", \"ข้อมูล\", \"เท็จ\", \"🍀\", \"🍀\", \"...\"\n",
    "    ]\n",
    "}\n",
    "\n",
    "# Convert them into single strings for title and content\n",
    "title_test = test_data[\"Title\"][0]  # \"\" (an empty string in this example)\n",
    "content_test = \" \".join(test_data[\"Detail\"])\n",
    "\n",
    "# Now call the test_model() function from your notebook (must be defined earlier).\n",
    "test_model(title_test, content_test)\n"
   ]
  },
  {
   "cell_type": "code",
   "execution_count": 13,
   "metadata": {},
   "outputs": [
    {
     "name": "stdout",
     "output_type": "stream",
     "text": [
      "Using device: cuda\n",
      "Tokenizer loaded successfully.\n",
      "Class weights loaded successfully.\n",
      "Model loaded successfully.\n"
     ]
    },
    {
     "name": "stderr",
     "output_type": "stream",
     "text": [
      "C:\\Users\\sirap\\AppData\\Local\\Temp\\ipykernel_2460\\2929286726.py:45: FutureWarning: You are using `torch.load` with `weights_only=False` (the current default value), which uses the default pickle module implicitly. It is possible to construct malicious pickle data which will execute arbitrary code during unpickling (See https://github.com/pytorch/pytorch/blob/main/SECURITY.md#untrusted-models for more details). In a future release, the default value for `weights_only` will be flipped to `True`. This limits the functions that could be executed during unpickling. Arbitrary objects will no longer be allowed to be loaded via this mode unless they are explicitly allowlisted by the user via `torch.serialization.add_safe_globals`. We recommend you start setting `weights_only=True` for any use case where you don't have full control of the loaded file. Please open an issue on GitHub for any issues related to this experimental feature.\n",
      "  class_weights = torch.load('class_weights.pth', map_location=device)\n",
      "C:\\Users\\sirap\\AppData\\Local\\Temp\\ipykernel_2460\\2929286726.py:59: FutureWarning: You are using `torch.load` with `weights_only=False` (the current default value), which uses the default pickle module implicitly. It is possible to construct malicious pickle data which will execute arbitrary code during unpickling (See https://github.com/pytorch/pytorch/blob/main/SECURITY.md#untrusted-models for more details). In a future release, the default value for `weights_only` will be flipped to `True`. This limits the functions that could be executed during unpickling. Arbitrary objects will no longer be allowed to be loaded via this mode unless they are explicitly allowlisted by the user via `torch.serialization.add_safe_globals`. We recommend you start setting `weights_only=True` for any use case where you don't have full control of the loaded file. Please open an issue on GitHub for any issues related to this experimental feature.\n",
      "  checkpoint = torch.load('best_model_checkpoint.pth', map_location=device)\n"
     ]
    },
    {
     "name": "stdout",
     "output_type": "stream",
     "text": [
      "Prediction: Fake News\n"
     ]
    },
    {
     "data": {
      "text/plain": [
       "'Fake News'"
      ]
     },
     "execution_count": 13,
     "metadata": {},
     "output_type": "execute_result"
    }
   ],
   "source": [
    "# Sample data\n",
    "test_data_2 = {\n",
    "    \"Title\": [\"พบ\", \"บ่อน้ำ\", \"ศักดิ์สิทธิ์\", \"ใต้\", \"ต้น\", \"โพธิ์\", \"สมัย\", \"ศรีสัชนาลัย\", \"800\", \"ปี\", \"คาด\", \"ไหล\", \"ซึม\", \"จาก\", \"ราก\", \"เขา\", \"นาง\", \"นอน\"],\n",
    "    \"Detail\": [\n",
    "        \"26\", \"ส.ค\", \".\", \"61\", \"ผู้\", \"สื่อ\", \"ข่าว\", \"รายงาน\", \"ว่า\", \"ที่\", \"บริเวณ\", \"ทุ่ง\", \"หญ้า\",\n",
    "        \"เลี้ยง\", \"สัตว์\", \"กลาง\", \"เขา\", \"หมู่\", \"5\", \"บ้าน\", \"แสน\", \"ตอ\", \"ต.สาร\", \"จิตร\", \"อ.ศรีสัชนาลัย\",\n",
    "        \"จ.สุโขทัย\", \"มี\", \"บ่อน้ำ\", \"เก่า\", \"แก่\", \"ยุค\", \"เมือง\", \"โบราณ\", \"ศรีสัชนาลัย\", \"ชาว\", \"บ้าน\",\n",
    "        \"ร่ำ\", \"ลือ\", \"ว่า\", \"น้ำ\", \"ใน\", \"บ่อ\", \"นี้\", \"ไม่\", \"เคย\", \"แห้ง\", \"แม้\", \"จะ\", \"เจอ\", \"สภาพ\",\n",
    "        \"อากาศ\", \"ที่\", \"แล้ง\", \"จัด\", \"เพียง\", \"ใด\", \"ก็ตาม\", \"ขณะ\", \"ที่\", \"บาง\", \"คน\", \"เชื่อ\", \"ว่า\",\n",
    "        \"เป็น\", \"น้ำ\", \"ศักดิ์สิทธิ์\", \"กิน\", \"แล้ว\", \"รักษา\", \"โรค\", \"เจ็บ\", \"ป่วย\", \"ให้\", \"หาย\",\n",
    "        \"ได้\", \"ด้วย\", \"...\"\n",
    "    ]\n",
    "}\n",
    "\n",
    "# Convert tokens to strings\n",
    "title_test_2 = \" \".join(test_data_2[\"Title\"])\n",
    "content_test_2 = \" \".join(test_data_2[\"Detail\"])\n",
    "\n",
    "# Call the test_model function (must be defined in the same notebook)\n",
    "test_model(title_test_2, content_test_2)\n"
   ]
  }
 ],
 "metadata": {
  "kernelspec": {
   "display_name": "pytorch_env",
   "language": "python",
   "name": "python3"
  },
  "language_info": {
   "codemirror_mode": {
    "name": "ipython",
    "version": 3
   },
   "file_extension": ".py",
   "mimetype": "text/x-python",
   "name": "python",
   "nbconvert_exporter": "python",
   "pygments_lexer": "ipython3",
   "version": "3.9.21"
  }
 },
 "nbformat": 4,
 "nbformat_minor": 2
}
